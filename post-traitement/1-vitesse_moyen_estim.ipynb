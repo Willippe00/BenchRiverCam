{
 "cells": [
  {
   "cell_type": "code",
   "execution_count": 13,
   "id": "3dde79d2",
   "metadata": {},
   "outputs": [],
   "source": [
    "import numpy as np\n",
    "import pandas as pd"
   ]
  },
  {
   "cell_type": "code",
   "execution_count": null,
   "id": "29dfa621",
   "metadata": {},
   "outputs": [],
   "source": [
    "df_Vitesse_pyOpenRiverCam = pd.read_csv(R\"..\\FrameWork\\pyOpenRiverCam\\artifact\\data.csv\")\n",
    "df_Vitesse_OpenCV_Farnback = pd.read_csv(R\"..\\FrameWork\\OpenCV-Farneback\\artifact\\data.csv\")"
   ]
  },
  {
   "cell_type": "code",
   "execution_count": 15,
   "id": "6ee35efe",
   "metadata": {},
   "outputs": [],
   "source": [
    "alpha_optimiste = [round(a, 2) for a in np.arange(0.80, 0.88 + 0.01, 0.01)]\n",
    "alpha_pessimiste = [round(a, 2) for a in np.arange(0.70, 0.85 + 0.01, 0.01)]"
   ]
  },
  {
   "cell_type": "code",
   "execution_count": 20,
   "id": "2b0a9c73",
   "metadata": {},
   "outputs": [],
   "source": [
    "#pyOpenRiverCam\n",
    "vitesse_optimiste_pyOpenRiverCam_df = pd.DataFrame({\"time_s\": df_Vitesse_pyOpenRiverCam[\"time_s\"]})\n",
    "for alpha in alpha_optimiste:\n",
    "    col_name = f\"v_moy_alpha_{alpha}\"\n",
    "    vitesse_optimiste_pyOpenRiverCam_df[col_name] = df_Vitesse_pyOpenRiverCam[\"vitesse_surface_m_s\"] * alpha\n",
    "\n",
    "vitesse_pessimiste_pyOpenRiverCam_df = pd.DataFrame({\"time_s\": df_Vitesse_pyOpenRiverCam[\"time_s\"]})\n",
    "for alpha in alpha_pessimiste:\n",
    "    col_name = f\"v_moy_alpha_{alpha}\"\n",
    "    vitesse_pessimiste_pyOpenRiverCam_df[col_name] = df_Vitesse_pyOpenRiverCam[\"vitesse_surface_m_s\"] * alpha\n",
    "\n",
    "#OpenCV_Farnback\n",
    "vitesse_optimiste_OpenCV_Farnback = pd.DataFrame({\"time_s\": df_Vitesse_OpenCV_Farnback[\"time_s\"]})\n",
    "for alpha in alpha_optimiste:\n",
    "    col_name = f\"v_moy_alpha_{alpha}\"\n",
    "    vitesse_optimiste_OpenCV_Farnback[col_name] = df_Vitesse_OpenCV_Farnback[\"vitesse_surface_m_s\"] * alpha\n",
    "\n",
    "vitesse_pessimiste_OpenCV_Farnback = pd.DataFrame({\"time_s\": df_Vitesse_OpenCV_Farnback[\"time_s\"]})\n",
    "for alpha in alpha_pessimiste:\n",
    "    col_name = f\"v_moy_alpha_{alpha}\"\n",
    "    vitesse_pessimiste_OpenCV_Farnback[col_name] = df_Vitesse_OpenCV_Farnback[\"vitesse_surface_m_s\"] * alpha\n"
   ]
  },
  {
   "cell_type": "code",
   "execution_count": null,
   "id": "a12177c4",
   "metadata": {},
   "outputs": [],
   "source": [
    "vitesse_optimiste_pyOpenRiverCam_df.to_csv(R\".\\artifact\\vitesse_optimiste_pyOpenRiverCam_df.csv\")\n",
    "vitesse_pessimiste_pyOpenRiverCam_df.to_csv(R\".\\artifact\\vitesse_pessimiste_pyOpenRiverCam_df.csv\")\n",
    "vitesse_optimiste_OpenCV_Farnback.to_csv(R\".\\artifact\\vitesse_optimiste_OpenCV_Farnback.csv\")\n",
    "vitesse_pessimiste_OpenCV_Farnback.to_csv(R\".\\artifact\\vitesse_pessimiste_OpenCV_Farnback.csv\")"
   ]
  }
 ],
 "metadata": {
  "kernelspec": {
   "display_name": "venv",
   "language": "python",
   "name": "python3"
  },
  "language_info": {
   "codemirror_mode": {
    "name": "ipython",
    "version": 3
   },
   "file_extension": ".py",
   "mimetype": "text/x-python",
   "name": "python",
   "nbconvert_exporter": "python",
   "pygments_lexer": "ipython3",
   "version": "3.12.6"
  }
 },
 "nbformat": 4,
 "nbformat_minor": 5
}
