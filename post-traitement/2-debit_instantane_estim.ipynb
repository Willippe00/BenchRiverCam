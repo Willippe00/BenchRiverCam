{
 "cells": [
  {
   "cell_type": "code",
   "execution_count": 25,
   "id": "efb2de04",
   "metadata": {},
   "outputs": [],
   "source": [
    "import numpy as np\n",
    "import pandas as pd"
   ]
  },
  {
   "cell_type": "code",
   "execution_count": 26,
   "id": "cb35a152",
   "metadata": {},
   "outputs": [],
   "source": [
    "vitesse_optimiste_pyOpenRiverCam_df = pd.read_csv(R\".\\artifact\\vitesse_optimiste_pyOpenRiverCam_df.csv\")\n",
    "vitesse_pessimiste_pyOpenRiverCam_df = pd.read_csv(R\".\\artifact\\vitesse_pessimiste_pyOpenRiverCam_df.csv\")\n",
    "\n",
    "vitesse_optimiste_OpenCV_Farnback = pd.read_csv(R\".\\artifact\\vitesse_optimiste_OpenCV_Farnback.csv\")\n",
    "vitesse_pessimiste_OpenCV_Farnback= pd.read_csv(R\".\\artifact\\vitesse_pessimiste_OpenCV_Farnback.csv\")"
   ]
  },
  {
   "cell_type": "code",
   "execution_count": 27,
   "id": "2a1a3bc7",
   "metadata": {},
   "outputs": [],
   "source": [
    "profondeur_m = 2.2\n",
    "largeur_m = 20 \n",
    "section_mouillee_m2 = profondeur_m * largeur_m"
   ]
  },
  {
   "cell_type": "code",
   "execution_count": 28,
   "id": "d7a5fef1",
   "metadata": {},
   "outputs": [],
   "source": [
    "debit_optimiste_pyOpenRiverCam_df = pd.DataFrame()\n",
    "debit_optimiste_pyOpenRiverCam_df[\"time_s\"] = vitesse_optimiste_pyOpenRiverCam_df[\"time_s\"]\n",
    "\n",
    "for col in vitesse_optimiste_pyOpenRiverCam_df.columns:\n",
    "    if col.startswith(\"v_moy_alpha_\"):\n",
    "        alpha_str = col.split(\"_\")[-1]  # extrait la valeur alpha du nom\n",
    "        q_col_name = f\"Q_alpha_{alpha_str}\"\n",
    "        debit_optimiste_pyOpenRiverCam_df[q_col_name] = vitesse_optimiste_pyOpenRiverCam_df[col] * section_mouillee_m2\n",
    "\n",
    "\n",
    "debit_pessimiste_pyOpenRiverCam_df = pd.DataFrame()\n",
    "debit_pessimiste_pyOpenRiverCam_df[\"time_s\"] = vitesse_pessimiste_pyOpenRiverCam_df[\"time_s\"]\n",
    "\n",
    "for col in vitesse_pessimiste_pyOpenRiverCam_df.columns:\n",
    "    if col.startswith(\"v_moy_alpha_\"):\n",
    "        alpha_str = col.split(\"_\")[-1]  # extrait la valeur alpha du nom\n",
    "        q_col_name = f\"Q_alpha_{alpha_str}\"\n",
    "        debit_pessimiste_pyOpenRiverCam_df[q_col_name] = vitesse_pessimiste_pyOpenRiverCam_df[col] * section_mouillee_m2\n",
    "\n",
    "#OpenCV_Farnback\n",
    "debit_optimiste_OpenCV_Farnback_df = pd.DataFrame()\n",
    "debit_optimiste_OpenCV_Farnback_df[\"time_s\"] = vitesse_optimiste_OpenCV_Farnback[\"time_s\"]\n",
    "\n",
    "for col in vitesse_optimiste_OpenCV_Farnback.columns:\n",
    "    if col.startswith(\"v_moy_alpha_\"):\n",
    "        alpha_str = col.split(\"_\")[-1]  # extrait la valeur alpha du nom\n",
    "        q_col_name = f\"Q_alpha_{alpha_str}\"\n",
    "        debit_optimiste_OpenCV_Farnback_df[q_col_name] = vitesse_optimiste_OpenCV_Farnback[col] * section_mouillee_m2\n",
    "\n",
    "\n",
    "debit_pessimiste_OpenCV_Farnback_df = pd.DataFrame()\n",
    "debit_pessimiste_OpenCV_Farnback_df[\"time_s\"] = vitesse_pessimiste_OpenCV_Farnback[\"time_s\"]\n",
    "\n",
    "for col in vitesse_pessimiste_OpenCV_Farnback.columns:\n",
    "    if col.startswith(\"v_moy_alpha_\"):\n",
    "        alpha_str = col.split(\"_\")[-1]  # extrait la valeur alpha du nom\n",
    "        q_col_name = f\"Q_alpha_{alpha_str}\"\n",
    "        debit_pessimiste_OpenCV_Farnback_df[q_col_name] = vitesse_pessimiste_OpenCV_Farnback[col] * section_mouillee_m2"
   ]
  },
  {
   "cell_type": "code",
   "execution_count": 29,
   "id": "0d11858e",
   "metadata": {},
   "outputs": [],
   "source": [
    "debit_optimiste_pyOpenRiverCam_df.to_csv(R\".\\artifact\\debit_optimiste_pyOpenRiverCam_df.csv\")\n",
    "debit_pessimiste_pyOpenRiverCam_df.to_csv(R\".\\artifact\\debit_pessimiste_pyOpenRiverCam_df.csv\")\n",
    "\n",
    "debit_optimiste_OpenCV_Farnback_df.to_csv(R\".\\artifact\\debit_optimiste_OpenCV_Farnback_df.csv\")\n",
    "debit_pessimiste_OpenCV_Farnback_df.to_csv(R\".\\artifact\\debit_pessimiste_OpenCV_Farnback_df.csv\")"
   ]
  }
 ],
 "metadata": {
  "kernelspec": {
   "display_name": "venv",
   "language": "python",
   "name": "python3"
  },
  "language_info": {
   "codemirror_mode": {
    "name": "ipython",
    "version": 3
   },
   "file_extension": ".py",
   "mimetype": "text/x-python",
   "name": "python",
   "nbconvert_exporter": "python",
   "pygments_lexer": "ipython3",
   "version": "3.12.6"
  }
 },
 "nbformat": 4,
 "nbformat_minor": 5
}
