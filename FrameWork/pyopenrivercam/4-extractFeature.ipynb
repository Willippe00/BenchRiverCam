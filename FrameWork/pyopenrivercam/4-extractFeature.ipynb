{
 "cells": [
  {
   "cell_type": "code",
   "execution_count": 30,
   "id": "4ace46c1",
   "metadata": {},
   "outputs": [],
   "source": [
    "import xarray as xr\n",
    "import pandas as pd\n",
    "import numpy as np"
   ]
  },
  {
   "cell_type": "code",
   "execution_count": 31,
   "id": "de600c0d",
   "metadata": {},
   "outputs": [],
   "source": [
    "ds = xr.open_dataset(\"./artifact/maskAnnoter.nc\")"
   ]
  },
  {
   "cell_type": "code",
   "execution_count": null,
   "id": "513e8cf4",
   "metadata": {},
   "outputs": [
    {
     "name": "stderr",
     "output_type": "stream",
     "text": [
      "c:\\Users\\willi\\Documents\\UniWill\\pmc\\testriviere\\BenchRiverCam\\venv\\Lib\\site-packages\\numpy\\lib\\nanfunctions.py:1879: RuntimeWarning: Degrees of freedom <= 0 for slice.\n",
      "  var = nanvar(a, axis=axis, dtype=dtype, out=out, ddof=ddof,\n"
     ]
    }
   ],
   "source": [
    "vx = ds[\"v_x\"]\n",
    "vy = ds[\"v_y\"]\n",
    "v_mag = np.sqrt(vx**2 + vy**2)\n",
    "\n",
    "# Filtrer les aberrations\n",
    "v_mag_masked = v_mag.where((v_mag >= 0.6) & (v_mag <= 3.0))\n",
    "\n",
    "# Statistiques filtrées\n",
    "v_median = v_mag_masked.median(dim=[\"y\", \"x\"])\n",
    "v_std = v_mag_masked.std(dim=[\"y\", \"x\"])\n",
    "\n",
    "# DataFrame final\n",
    "df = pd.DataFrame({\n",
    "    \"time_s\": ds[\"time\"].values,\n",
    "    \"vitesse_surface_m_s\": v_median.values,\n",
    "    \"ecart_type\": v_std.values\n",
    "})\n"
   ]
  },
  {
   "cell_type": "code",
   "execution_count": 33,
   "id": "a28977b9",
   "metadata": {},
   "outputs": [],
   "source": [
    "df.to_csv(R\".\\artifact\\data.csv\", index=False)"
   ]
  }
 ],
 "metadata": {
  "kernelspec": {
   "display_name": "venv",
   "language": "python",
   "name": "python3"
  },
  "language_info": {
   "codemirror_mode": {
    "name": "ipython",
    "version": 3
   },
   "file_extension": ".py",
   "mimetype": "text/x-python",
   "name": "python",
   "nbconvert_exporter": "python",
   "pygments_lexer": "ipython3",
   "version": "3.12.6"
  }
 },
 "nbformat": 4,
 "nbformat_minor": 5
}
