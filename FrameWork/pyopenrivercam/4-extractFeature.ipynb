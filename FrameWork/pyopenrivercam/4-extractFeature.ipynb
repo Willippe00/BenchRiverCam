{
 "cells": [
  {
   "cell_type": "code",
   "execution_count": 1,
   "id": "4ace46c1",
   "metadata": {},
   "outputs": [],
   "source": [
    "import xarray as xr\n",
    "import pandas as pd\n",
    "import numpy as np"
   ]
  },
  {
   "cell_type": "code",
   "execution_count": null,
   "id": "de600c0d",
   "metadata": {},
   "outputs": [],
   "source": [
    "ds = xr.open_dataset(\"./artifact/maskAnnoter.nc\")"
   ]
  },
  {
   "cell_type": "code",
   "execution_count": 3,
   "id": "5bc4bc4b",
   "metadata": {},
   "outputs": [
    {
     "name": "stdout",
     "output_type": "stream",
     "text": [
      "<xarray.Dataset> Size: 448kB\n",
      "Dimensions:  (time: 106, y: 10, x: 13)\n",
      "Coordinates:\n",
      "  * time     (time) float64 848B 0.03333 0.06667 0.1 0.1333 ... 3.467 3.5 3.533\n",
      "  * y        (y) float64 80B 17.22 15.63 14.03 12.43 ... 7.625 6.025 4.425 2.825\n",
      "  * x        (x) float64 104B 1.625 3.225 4.825 6.425 ... 17.62 19.23 20.82\n",
      "    xp       (y, x) float64 1kB ...\n",
      "    yp       (y, x) float64 1kB ...\n",
      "    xs       (y, x) float64 1kB ...\n",
      "    ys       (y, x) float64 1kB ...\n",
      "    lon      (y, x) float64 1kB ...\n",
      "    lat      (y, x) float64 1kB ...\n",
      "Data variables:\n",
      "    s2n      (time, y, x) float64 110kB ...\n",
      "    corr     (time, y, x) float64 110kB ...\n",
      "    v_x      (time, y, x) float64 110kB 0.27 0.28 0.41 0.36 ... -0.25 -0.05 0.02\n",
      "    v_y      (time, y, x) float64 110kB 0.2 0.25 0.31 0.26 ... -0.18 -0.06 -0.02\n",
      "Attributes:\n",
      "    camera_shape:   [1080, 1920]\n",
      "    camera_config:  {\\n    \"height\": 1080,\\n    \"width\": 1920,\\n    \"crs\": \"P...\n",
      "    h_a:            0.0\n",
      "    chunksize:      20\n"
     ]
    }
   ],
   "source": [
    "print(ds)"
   ]
  },
  {
   "cell_type": "code",
   "execution_count": 6,
   "id": "513e8cf4",
   "metadata": {},
   "outputs": [],
   "source": [
    "vx = ds[\"v_x\"]\n",
    "vy = ds[\"v_y\"]\n",
    "v_mag = np.sqrt(vx**2 + vy**2)\n",
    "\n",
    "# Moyenne et écart-type de la vitesse pour chaque frame\n",
    "v_mean = v_mag.mean(dim=[\"y\", \"x\"])\n",
    "v_std = v_mag.std(dim=[\"y\", \"x\"])\n",
    "\n",
    "temps = ds[\"time\"].values\n",
    "\n",
    "# Construction du DataFrame\n",
    "df = pd.DataFrame({\n",
    "    \"time_s\": temps,\n",
    "    \"vitesse_surface_m_s\": v_mean.values,\n",
    "    \"ecart_type\": v_std.values\n",
    "})"
   ]
  },
  {
   "cell_type": "code",
   "execution_count": 7,
   "id": "a28977b9",
   "metadata": {},
   "outputs": [],
   "source": [
    "df.to_csv(R\".\\artifact\\data.csv\", index=False)"
   ]
  }
 ],
 "metadata": {
  "kernelspec": {
   "display_name": "venv",
   "language": "python",
   "name": "python3"
  },
  "language_info": {
   "codemirror_mode": {
    "name": "ipython",
    "version": 3
   },
   "file_extension": ".py",
   "mimetype": "text/x-python",
   "name": "python",
   "nbconvert_exporter": "python",
   "pygments_lexer": "ipython3",
   "version": "3.12.6"
  }
 },
 "nbformat": 4,
 "nbformat_minor": 5
}
