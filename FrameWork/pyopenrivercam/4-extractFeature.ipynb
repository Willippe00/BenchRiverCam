{
 "cells": [
  {
   "cell_type": "code",
   "execution_count": 10,
   "id": "4ace46c1",
   "metadata": {},
   "outputs": [],
   "source": [
    "import xarray as xr\n",
    "import pandas as pd\n",
    "import numpy as np"
   ]
  },
  {
   "cell_type": "code",
   "execution_count": 11,
   "id": "de600c0d",
   "metadata": {},
   "outputs": [],
   "source": [
    "ds = xr.open_dataset(\"./artifact/maskAnnoter.nc\")"
   ]
  },
  {
   "cell_type": "code",
   "execution_count": 12,
   "id": "513e8cf4",
   "metadata": {},
   "outputs": [
    {
     "name": "stderr",
     "output_type": "stream",
     "text": [
      "c:\\Users\\willi\\Documents\\UniWill\\pmc\\testriviere\\BenchRiverCam\\venv\\Lib\\site-packages\\numpy\\lib\\nanfunctions.py:1879: RuntimeWarning: Degrees of freedom <= 0 for slice.\n",
      "  var = nanvar(a, axis=axis, dtype=dtype, out=out, ddof=ddof,\n"
     ]
    }
   ],
   "source": [
    "vx = ds[\"v_x\"]\n",
    "vy = ds[\"v_y\"]\n",
    "v_mag = np.sqrt(vx**2 + vy**2)\n",
    "\n",
    "# Moyenne et écart-type de la vitesse pour chaque frame\n",
    "v_mean = v_mag.mean(dim=[\"y\", \"x\"])\n",
    "v_std = v_mag.std(dim=[\"y\", \"x\"])\n",
    "\n",
    "temps = ds[\"time\"].values\n",
    "\n",
    "# Construction du DataFrame\n",
    "df = pd.DataFrame({\n",
    "    \"time_s\": temps,\n",
    "    \"vitesse_surface_m_s\": v_mean.values,\n",
    "    \"ecart_type\": v_std.values\n",
    "})"
   ]
  },
  {
   "cell_type": "code",
   "execution_count": 13,
   "id": "a28977b9",
   "metadata": {},
   "outputs": [],
   "source": [
    "df.to_csv(R\".\\artifact\\data.csv\", index=False)"
   ]
  }
 ],
 "metadata": {
  "kernelspec": {
   "display_name": "venv",
   "language": "python",
   "name": "python3"
  },
  "language_info": {
   "codemirror_mode": {
    "name": "ipython",
    "version": 3
   },
   "file_extension": ".py",
   "mimetype": "text/x-python",
   "name": "python",
   "nbconvert_exporter": "python",
   "pygments_lexer": "ipython3",
   "version": "3.12.6"
  }
 },
 "nbformat": 4,
 "nbformat_minor": 5
}
