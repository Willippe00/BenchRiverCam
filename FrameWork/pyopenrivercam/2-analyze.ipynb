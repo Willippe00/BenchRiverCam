{
 "cells": [
  {
   "cell_type": "code",
   "execution_count": 1,
   "id": "ab7ccc92",
   "metadata": {},
   "outputs": [],
   "source": [
    "import pyorc\n",
    "import matplotlib.pyplot as plt\n",
    "import xarray as xr\n",
    "import cartopy\n",
    "import cartopy.crs as ccrs\n",
    "import cartopy.io.img_tiles as cimgt\n",
    "from dask.diagnostics import ProgressBar\n",
    "from matplotlib import patches"
   ]
  },
  {
   "cell_type": "code",
   "execution_count": null,
   "id": "805bb52a",
   "metadata": {},
   "outputs": [],
   "source": [
    "cam_config = pyorc.load_camera_config(R\"./artifact/configCam.json\")\n",
    "video_file = R\"..\\..\\res\\pont-cour.mp4\""
   ]
  }
 ],
 "metadata": {
  "kernelspec": {
   "display_name": "venv",
   "language": "python",
   "name": "python3"
  },
  "language_info": {
   "codemirror_mode": {
    "name": "ipython",
    "version": 3
   },
   "file_extension": ".py",
   "mimetype": "text/x-python",
   "name": "python",
   "nbconvert_exporter": "python",
   "pygments_lexer": "ipython3",
   "version": "3.12.6"
  }
 },
 "nbformat": 4,
 "nbformat_minor": 5
}
