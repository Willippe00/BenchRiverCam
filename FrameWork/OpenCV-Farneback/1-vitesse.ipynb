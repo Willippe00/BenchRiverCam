{
 "cells": [
  {
   "cell_type": "code",
   "execution_count": null,
   "id": "b2b01658",
   "metadata": {},
   "outputs": [],
   "source": [
    "import cv2\n",
    "from tqdm import tqdm\n",
    "\n",
    "import numpy as np"
   ]
  },
  {
   "cell_type": "code",
   "execution_count": 8,
   "id": "ffc972ca",
   "metadata": {},
   "outputs": [],
   "source": [
    "video_path = R\"..\\..\\res\\pont-cour.mp4\"\n",
    "pixels_to_meters = 0.02  # 1 pixel = 2 cm = 0.02 m a fine tuner\n",
    "fps = 30                 # images/seconde\n",
    "frame_skip = 1           # utiliser 1 = toutes les frames, 2 = une sur deux, etc.\n",
    "max_frames = 100         # pour test rapide, ajuste à None pour toutes les frames\n",
    "min_flow, max_flow = 0.5, 20  # seuils pour filtrer le bruit (pixels/frame)"
   ]
  },
  {
   "cell_type": "code",
   "execution_count": 9,
   "id": "d0e6812c",
   "metadata": {},
   "outputs": [],
   "source": [
    "cap = cv2.VideoCapture(video_path)\n",
    "delta_t = 1 / fps\n",
    "ret, prev = cap.read()\n",
    "prev_gray = cv2.cvtColor(prev, cv2.COLOR_BGR2GRAY)\n",
    "frame_count = 0\n",
    "v_list = []\n",
    "frame_idx = 0"
   ]
  },
  {
   "cell_type": "code",
   "execution_count": 10,
   "id": "7e3a2702",
   "metadata": {},
   "outputs": [
    {
     "name": "stderr",
     "output_type": "stream",
     "text": [
      "0it [00:00, ?it/s]\n"
     ]
    },
    {
     "ename": "NameError",
     "evalue": "name 'np' is not defined",
     "output_type": "error",
     "traceback": [
      "\u001b[31m---------------------------------------------------------------------------\u001b[39m",
      "\u001b[31mNameError\u001b[39m                                 Traceback (most recent call last)",
      "\u001b[36mCell\u001b[39m\u001b[36m \u001b[39m\u001b[32mIn[10]\u001b[39m\u001b[32m, line 15\u001b[39m\n\u001b[32m     11\u001b[39m flow = cv2.calcOpticalFlowFarneback(prev_gray, gray, \u001b[38;5;28;01mNone\u001b[39;00m,\n\u001b[32m     12\u001b[39m                                     \u001b[32m0.5\u001b[39m, \u001b[32m3\u001b[39m, \u001b[32m15\u001b[39m, \u001b[32m3\u001b[39m, \u001b[32m5\u001b[39m, \u001b[32m1.2\u001b[39m, \u001b[32m0\u001b[39m)\n\u001b[32m     14\u001b[39m vx, vy = flow[..., \u001b[32m0\u001b[39m], flow[..., \u001b[32m1\u001b[39m]\n\u001b[32m---> \u001b[39m\u001b[32m15\u001b[39m v = \u001b[43mnp\u001b[49m.sqrt(vx**\u001b[32m2\u001b[39m + vy**\u001b[32m2\u001b[39m)\n\u001b[32m     16\u001b[39m v_mean_pix = np.mean(v)\n\u001b[32m     17\u001b[39m v_surface = v_mean_pix * pixels_to_meters / delta_t\n",
      "\u001b[31mNameError\u001b[39m: name 'np' is not defined"
     ]
    }
   ],
   "source": [
    "with tqdm() as pbar:\n",
    "    while True:\n",
    "        for _ in range(frame_skip):\n",
    "            ret, frame = cap.read()\n",
    "            if not ret:\n",
    "                break\n",
    "        if not ret:\n",
    "            break\n",
    "\n",
    "        gray = cv2.cvtColor(frame, cv2.COLOR_BGR2GRAY)\n",
    "        flow = cv2.calcOpticalFlowFarneback(prev_gray, gray, None,\n",
    "                                            0.5, 3, 15, 3, 5, 1.2, 0)\n",
    "\n",
    "        vx, vy = flow[..., 0], flow[..., 1]\n",
    "        v = np.sqrt(vx**2 + vy**2)\n",
    "        v_mean_pix = np.mean(v)\n",
    "        v_surface = v_mean_pix * pixels_to_meters / delta_t\n",
    "\n",
    "        v_list.append((frame_idx, v_surface))\n",
    "\n",
    "        prev_gray = gray.copy()\n",
    "        frame_idx += 1\n",
    "        if max_frames and frame_idx >= max_frames:\n",
    "            break\n",
    "        pbar.update(1)\n",
    "\n",
    "cap.release()"
   ]
  },
  {
   "cell_type": "code",
   "execution_count": null,
   "id": "c180dc90",
   "metadata": {},
   "outputs": [],
   "source": [
    "import csv\n",
    "with open(R\".\\artifact\\vitesse.csv\", \"w\", newline='') as f:\n",
    "    writer = csv.writer(f)\n",
    "    writer.writerow([\"Frame\", \"Vitesse_surface_m/s\"])\n",
    "    writer.writerows(v_list)\n"
   ]
  }
 ],
 "metadata": {
  "kernelspec": {
   "display_name": "venv",
   "language": "python",
   "name": "python3"
  },
  "language_info": {
   "codemirror_mode": {
    "name": "ipython",
    "version": 3
   },
   "file_extension": ".py",
   "mimetype": "text/x-python",
   "name": "python",
   "nbconvert_exporter": "python",
   "pygments_lexer": "ipython3",
   "version": "3.12.6"
  }
 },
 "nbformat": 4,
 "nbformat_minor": 5
}
