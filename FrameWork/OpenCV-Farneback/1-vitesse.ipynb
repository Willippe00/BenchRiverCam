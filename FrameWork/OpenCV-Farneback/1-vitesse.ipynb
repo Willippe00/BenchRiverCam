{
 "cells": [
  {
   "cell_type": "code",
   "execution_count": 11,
   "id": "b2b01658",
   "metadata": {},
   "outputs": [],
   "source": [
    "import cv2\n",
    "from tqdm import tqdm\n",
    "\n",
    "import numpy as np"
   ]
  },
  {
   "cell_type": "code",
   "execution_count": 12,
   "id": "ffc972ca",
   "metadata": {},
   "outputs": [],
   "source": [
    "video_path = R\"..\\..\\res\\pont-cour.mp4\"\n",
    "pixels_to_meters = 0.02  # 1 pixel = 2 cm = 0.02 m a fine tuner\n",
    "fps = 30                 # images/seconde\n",
    "frame_skip = 1           # utiliser 1 = toutes les frames, 2 = une sur deux, etc.\n",
    "max_frames = 100         # pour test rapide, ajuste à None pour toutes les frames\n",
    "min_flow, max_flow = 0.5, 20  # seuils pour filtrer le bruit (pixels/frame)"
   ]
  },
  {
   "cell_type": "code",
   "execution_count": 13,
   "id": "d0e6812c",
   "metadata": {},
   "outputs": [],
   "source": [
    "cap = cv2.VideoCapture(video_path)\n",
    "delta_t = 1 / fps\n",
    "ret, prev = cap.read()\n",
    "prev_gray = cv2.cvtColor(prev, cv2.COLOR_BGR2GRAY)\n",
    "frame_count = 0\n",
    "v_list = []\n",
    "frame_idx = 0"
   ]
  },
  {
   "cell_type": "code",
   "execution_count": 14,
   "id": "7e3a2702",
   "metadata": {},
   "outputs": [
    {
     "name": "stderr",
     "output_type": "stream",
     "text": [
      "99it [01:01,  1.61it/s]\n"
     ]
    }
   ],
   "source": [
    "with tqdm() as pbar:\n",
    "    while True:\n",
    "        for _ in range(frame_skip):\n",
    "            ret, frame = cap.read()\n",
    "            if not ret:\n",
    "                break\n",
    "        if not ret:\n",
    "            break\n",
    "\n",
    "        gray = cv2.cvtColor(frame, cv2.COLOR_BGR2GRAY)\n",
    "        flow = cv2.calcOpticalFlowFarneback(prev_gray, gray, None,\n",
    "                                            0.5, 3, 15, 3, 5, 1.2, 0)\n",
    "\n",
    "        vx, vy = flow[..., 0], flow[..., 1]\n",
    "        v = np.sqrt(vx**2 + vy**2)\n",
    "        v_mean_pix = np.mean(v)\n",
    "        v_surface = v_mean_pix * pixels_to_meters / delta_t\n",
    "\n",
    "        v_list.append((frame_idx, v_surface))\n",
    "\n",
    "        prev_gray = gray.copy()\n",
    "        frame_idx += 1\n",
    "        if max_frames and frame_idx >= max_frames:\n",
    "            break\n",
    "        pbar.update(1)\n",
    "\n",
    "cap.release()"
   ]
  },
  {
   "cell_type": "code",
   "execution_count": 15,
   "id": "c180dc90",
   "metadata": {},
   "outputs": [],
   "source": [
    "import csv\n",
    "with open(R\".\\artifact\\vitesse.csv\", \"w\", newline='') as f:\n",
    "    writer = csv.writer(f)\n",
    "    writer.writerow([\"Frame\", \"Vitesse_surface_m/s\"])\n",
    "    writer.writerows(v_list)\n"
   ]
  }
 ],
 "metadata": {
  "kernelspec": {
   "display_name": "venv",
   "language": "python",
   "name": "python3"
  },
  "language_info": {
   "codemirror_mode": {
    "name": "ipython",
    "version": 3
   },
   "file_extension": ".py",
   "mimetype": "text/x-python",
   "name": "python",
   "nbconvert_exporter": "python",
   "pygments_lexer": "ipython3",
   "version": "3.12.6"
  }
 },
 "nbformat": 4,
 "nbformat_minor": 5
}
