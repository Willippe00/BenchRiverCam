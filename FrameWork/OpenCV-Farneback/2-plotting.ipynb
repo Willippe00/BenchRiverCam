{
 "cells": [
  {
   "cell_type": "code",
   "execution_count": 1,
   "id": "7ca87da9",
   "metadata": {},
   "outputs": [],
   "source": [
    "import cv2\n",
    "import numpy as np\n",
    "import matplotlib.pyplot as plt\n",
    "import os"
   ]
  },
  {
   "cell_type": "code",
   "execution_count": null,
   "id": "f0280f37",
   "metadata": {},
   "outputs": [],
   "source": [
    "video_path = R\"..\\..\\res\\pont-cour.mp4\"\n",
    "mask_rect = (100, 200, 400, 150)\n",
    "step = 20\n",
    "output_dir = \"frames_vecteurs\"\n",
    "max_frames = 20"
   ]
  }
 ],
 "metadata": {
  "kernelspec": {
   "display_name": "venv",
   "language": "python",
   "name": "python3"
  },
  "language_info": {
   "codemirror_mode": {
    "name": "ipython",
    "version": 3
   },
   "file_extension": ".py",
   "mimetype": "text/x-python",
   "name": "python",
   "nbconvert_exporter": "python",
   "pygments_lexer": "ipython3",
   "version": "3.12.6"
  }
 },
 "nbformat": 4,
 "nbformat_minor": 5
}
