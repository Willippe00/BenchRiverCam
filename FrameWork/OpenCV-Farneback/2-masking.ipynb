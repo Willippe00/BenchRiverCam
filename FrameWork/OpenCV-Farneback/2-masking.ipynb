{
 "cells": [
  {
   "cell_type": "code",
   "execution_count": 19,
   "id": "63aef814",
   "metadata": {},
   "outputs": [],
   "source": [
    "import cv2\n",
    "import numpy as np\n",
    "from tqdm import tqdm\n",
    "import pandas as pd"
   ]
  },
  {
   "cell_type": "code",
   "execution_count": null,
   "id": "b5e2ee14",
   "metadata": {},
   "outputs": [],
   "source": [
    "video_path = R\"..\\..\\res\\pont-cour.mp4\"\n",
    "pixels_to_meters = 17 / 1000\n",
    "fps = 30\n",
    "delta_t = 1 / fps\n",
    "frame_skip = 1\n",
    "max_frames = 100\n",
    "\n",
    "stabilize = np.array([\n",
    "    [1500, 900],\n",
    "    [1300, 600],\n",
    "    [400, 600],\n",
    "    [250, 900]\n",
    "], dtype=np.int32)"
   ]
  },
  {
   "cell_type": "code",
   "execution_count": 21,
   "id": "b0cf2022",
   "metadata": {},
   "outputs": [],
   "source": [
    "cap = cv2.VideoCapture(video_path)\n",
    "ret, frame = cap.read()\n",
    "frame_height, frame_width = frame.shape[:2]"
   ]
  },
  {
   "cell_type": "code",
   "execution_count": 22,
   "id": "48c4bd49",
   "metadata": {},
   "outputs": [],
   "source": [
    "mask = np.zeros((frame_height, frame_width), dtype=np.uint8)\n",
    "cv2.fillPoly(mask, [stabilize], 1)\n",
    "prev_gray = cv2.cvtColor(frame, cv2.COLOR_BGR2GRAY)\n",
    "\n",
    "v_list = []\n",
    "frame_idx = 0\n",
    "\n",
    "temps = []\n",
    "v_mean = []\n",
    "v_std = []"
   ]
  },
  {
   "cell_type": "code",
   "execution_count": 23,
   "id": "455f011e",
   "metadata": {},
   "outputs": [
    {
     "name": "stderr",
     "output_type": "stream",
     "text": [
      "99it [01:00,  1.62it/s]\n"
     ]
    }
   ],
   "source": [
    "with tqdm() as pbar:\n",
    "    while True:\n",
    "        for _ in range(frame_skip):\n",
    "            ret, frame = cap.read()\n",
    "            if not ret:\n",
    "                break\n",
    "        if not ret:\n",
    "            break\n",
    "\n",
    "        gray = cv2.cvtColor(frame, cv2.COLOR_BGR2GRAY)\n",
    "        flow = cv2.calcOpticalFlowFarneback(prev_gray, gray, None,\n",
    "                                            0.5, 3, 15, 3, 5, 1.2, 0)\n",
    "\n",
    "        vx, vy = flow[..., 0], flow[..., 1]\n",
    "        v = np.sqrt(vx**2 + vy**2)\n",
    "\n",
    "        v_masked = v * mask\n",
    "        v_filtered = v_masked[(v_masked > 0.5) & (v_masked < 20)]\n",
    "\n",
    "        if v_filtered.size > 0:\n",
    "            mean_pix = np.mean(v_filtered)\n",
    "            std_pix = np.std(v_filtered)\n",
    "\n",
    "            vitesse = mean_pix * pixels_to_meters / delta_t\n",
    "            ecart_type = std_pix * pixels_to_meters / delta_t\n",
    "\n",
    "            temps.append(frame_idx * delta_t)\n",
    "            v_mean.append(vitesse)\n",
    "            v_std.append(ecart_type)\n",
    "\n",
    "        prev_gray = gray.copy()\n",
    "        frame_idx += 1\n",
    "        if max_frames and frame_idx >= max_frames:\n",
    "            break\n",
    "        pbar.update(1)\n",
    "\n",
    "cap.release()"
   ]
  },
  {
   "cell_type": "code",
   "execution_count": 24,
   "id": "0165aa82",
   "metadata": {},
   "outputs": [],
   "source": [
    "df = pd.DataFrame({\n",
    "    \"time_s\": temps,\n",
    "    \"vitesse_surface_m_s\": v_mean,\n",
    "    \"ecart_type\": v_std\n",
    "})\n",
    "\n",
    "df.to_csv(R\".\\artifact\\data.csv\", index=False)"
   ]
  }
 ],
 "metadata": {
  "kernelspec": {
   "display_name": "venv",
   "language": "python",
   "name": "python3"
  },
  "language_info": {
   "codemirror_mode": {
    "name": "ipython",
    "version": 3
   },
   "file_extension": ".py",
   "mimetype": "text/x-python",
   "name": "python",
   "nbconvert_exporter": "python",
   "pygments_lexer": "ipython3",
   "version": "3.12.6"
  }
 },
 "nbformat": 4,
 "nbformat_minor": 5
}
